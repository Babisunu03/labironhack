{
 "cells": [
  {
   "cell_type": "code",
   "execution_count": 3,
   "id": "09c285a1",
   "metadata": {},
   "outputs": [
    {
     "name": "stdout",
     "output_type": "stream",
     "text": [
      "Your password:········\n"
     ]
    }
   ],
   "source": [
    "import pandas as pd\n",
    "import getpass\n",
    "import sqlalchemy as sa\n",
    "from sqlalchemy import create_engine\n",
    "\n",
    "driver = 'mysql+pymysql'\n",
    "user = 'root'\n",
    "password = getpass.getpass(prompt='Your password:'\"\")\n",
    "ip = '127.0.0.1'\n",
    "connection_string = f'{driver}://{user}:{password}@{ip}'"
   ]
  },
  {
   "cell_type": "code",
   "execution_count": null,
   "id": "18dafb48",
   "metadata": {},
   "outputs": [],
   "source": [
    "db_connection = sa.create_engine(connection_string)\n",
    "result = db_connection.execute('SELECT * FROM sakila.store')\n",
    "for row in result:\n",
    "    print(row)"
   ]
  },
  {
   "cell_type": "code",
   "execution_count": null,
   "id": "e5a3f063",
   "metadata": {},
   "outputs": [],
   "source": [
    "# 2. Write a Python function called rentals_month that retrieves rental data for a given month and year\n",
    "\n",
    "def rentals_month(engine, month, year):\n",
    "    query = \"SELECT * from sakila.rental \\\n",
    "                WHERE date_format(rental_date, '%%m') = \" + str(month) + \\\n",
    "                \" AND date_format(rental_date, '%%Y') = \" + str(year)\n",
    "    rental = pd.read_sql_query(query, engine)\n",
    "    return rental, month, year\n",
    "\n",
    "df, m, y = rentals_month(db_connection, 5, 2005)\n",
    "df\n",
    "    \n",
    "    "
   ]
  },
  {
   "cell_type": "code",
   "execution_count": null,
   "id": "01c158f0",
   "metadata": {},
   "outputs": [],
   "source": [
    "# 3. Develop a Python function called rental_count_month that takes the DataFrame provided by rentals_month as input along with the month and year and returns a new DataFrame containing the number of rentals made by each customer_id during the selected month and year.\n",
    "\n",
    "def rental_count_month(df, month, year):\n",
    "    df = df.groupby('customer_id')[['rental_id']].count()\n",
    "    df.rename(columns={'rental_id':f'rentals_{month}_{year}'}, inplace=True)\n",
    "    return df\n",
    "\n",
    "df1 = rental_count_month(df, m, y)\n",
    "df1"
   ]
  },
  {
   "cell_type": "code",
   "execution_count": null,
   "id": "c92cffe3",
   "metadata": {},
   "outputs": [],
   "source": [
    "# 4. Create a Python function called compare_rentals that takes two DataFrames as input containing the number of rentals made by each customer in different months and years. The function should return a combined DataFrame with a new 'difference' column, which is the difference between the number of rentals in the two months.\n",
    "\n",
    "def compare_rentals(df1, df2):\n",
    "    df1.reset_index(inplace=True)\n",
    "    df2.reset_index(inplace=True)\n",
    "    df3 = df1.merge(df2, on='customer_id', how='outer')\n",
    "    df3.fillna(0,inplace=True)\n",
    "    df3['difference'] = df3[df3.columns[1]] - df3[df3.columns[2]]\n",
    "    return df3\n",
    "\n",
    "df1 = rental_count_month(*rentals_month(db_connection, 5, 2005))\n",
    "df2 = rental_count_month(*rentals_month(db_connection, 6, 2005))\n",
    "df3 = compare_rentals(df1, df2)\n",
    "df3"
   ]
  },
  {
   "cell_type": "code",
   "execution_count": null,
   "id": "717eee8e",
   "metadata": {},
   "outputs": [],
   "source": []
  },
  {
   "cell_type": "code",
   "execution_count": null,
   "id": "c2f216b7",
   "metadata": {},
   "outputs": [],
   "source": []
  }
 ],
 "metadata": {
  "kernelspec": {
   "display_name": "Python 3 (ipykernel)",
   "language": "python",
   "name": "python3"
  },
  "language_info": {
   "codemirror_mode": {
    "name": "ipython",
    "version": 3
   },
   "file_extension": ".py",
   "mimetype": "text/x-python",
   "name": "python",
   "nbconvert_exporter": "python",
   "pygments_lexer": "ipython3",
   "version": "3.9.12"
  }
 },
 "nbformat": 4,
 "nbformat_minor": 5
}
