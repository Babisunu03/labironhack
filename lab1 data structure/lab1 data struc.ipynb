{
 "cells": [
  {
   "cell_type": "code",
   "execution_count": 85,
   "id": "95e33f59",
   "metadata": {},
   "outputs": [],
   "source": [
    "products = [\"t_shirt\",\"mug\",\"hat\",\"book\",\"keychain\"]"
   ]
  },
  {
   "cell_type": "code",
   "execution_count": 86,
   "id": "1f56d8c2",
   "metadata": {},
   "outputs": [],
   "source": [
    "inventory = {\n",
    "    \n",
    "}\n",
    "\n",
    "quantity = []"
   ]
  },
  {
   "cell_type": "code",
   "execution_count": 87,
   "id": "f3386fe4",
   "metadata": {},
   "outputs": [],
   "source": [
    "customer_orders = set()"
   ]
  },
  {
   "cell_type": "code",
   "execution_count": 102,
   "id": "a4d04f62",
   "metadata": {},
   "outputs": [
    {
     "name": "stdout",
     "output_type": "stream",
     "text": [
      "enter the number of tshirt required :3\n",
      "enter the number of mug required :2\n",
      "enter the number of hat required :4\n",
      "enter the number of book required :3\n",
      "enter the number of keychain required :3\n",
      "{'t_shirt': 3, 'mug': 2, 'hat': 4, 'book': 3, 'keychain': 3}\n"
     ]
    }
   ],
   "source": [
    "quantity_of_t_shirt_available = int(input(\"enter the number of tshirt required :\"))\n",
    "inventory[\"t_shirt\"] = quantity_of_t_shirt_available\n",
    "quantity_of_mug_available = int(input(\"enter the number of mug required :\"))\n",
    "inventory[\"mug\"] = quantity_of_mug_available\n",
    "quantity_of_hat_available = int(input(\"enter the number of hat required :\"))\n",
    "inventory[\"hat\"] = quantity_of_hat_available\n",
    "quantity_of_book_available = int(input(\"enter the number of book required :\"))\n",
    "inventory[\"book\"] = quantity_of_book_available\n",
    "quantity_of_keychain_available =int(input(\"enter the number of keychain required :\"))\n",
    "inventory[\"keychain\"] = quantity_of_keychain_available\n",
    "\n",
    "print(inventory)"
   ]
  },
  {
   "cell_type": "code",
   "execution_count": 103,
   "id": "9c5eafa1",
   "metadata": {},
   "outputs": [
    {
     "name": "stdout",
     "output_type": "stream",
     "text": [
      "Enter the name of first product : hat\n",
      "Enter the name of second product : hat\n",
      "Enter the name of third product : hat\n"
     ]
    }
   ],
   "source": [
    "product_name1 = input(\"Enter the name of first product : \")\n",
    "product_name2 = input(\"Enter the name of second product : \")\n",
    "product_name3 = input(\"Enter the name of third product : \")"
   ]
  },
  {
   "cell_type": "code",
   "execution_count": 106,
   "id": "e91e87c0",
   "metadata": {},
   "outputs": [],
   "source": [
    "customer_orders = set()\n",
    "customer_orders.add(product_name1)\n",
    "customer_orders.add(product_name2)\n",
    "customer_orders.add(product_name3)"
   ]
  },
  {
   "cell_type": "code",
   "execution_count": 107,
   "id": "6006fda1",
   "metadata": {},
   "outputs": [
    {
     "name": "stdout",
     "output_type": "stream",
     "text": [
      "Customer Orders includes :  {'hat'}\n"
     ]
    }
   ],
   "source": [
    "print(\"Customer Orders includes : \", customer_orders)"
   ]
  },
  {
   "cell_type": "code",
   "execution_count": 108,
   "id": "42381844",
   "metadata": {},
   "outputs": [],
   "source": [
    "total_products_ordered = len(customer_orders)"
   ]
  },
  {
   "cell_type": "code",
   "execution_count": 109,
   "id": "138d12d0",
   "metadata": {},
   "outputs": [],
   "source": [
    "percentage_of_products_ordered = (total_products_ordered/len(products)) * 100"
   ]
  },
  {
   "cell_type": "code",
   "execution_count": 110,
   "id": "93d30c9e",
   "metadata": {},
   "outputs": [],
   "source": [
    "order_status = (total_products_ordered,percentage_of_products_ordered)"
   ]
  },
  {
   "cell_type": "code",
   "execution_count": 111,
   "id": "dc90d14b",
   "metadata": {},
   "outputs": [
    {
     "name": "stdout",
     "output_type": "stream",
     "text": [
      "{'t_shirt': 3, 'mug': 2, 'hat': 1, 'book': 3, 'keychain': 3}\n"
     ]
    }
   ],
   "source": [
    "inventory[product_name1] -= 1\n",
    "inventory[product_name2] -= 1\n",
    "inventory[product_name3] -= 1\n",
    "\n",
    "print(inventory)"
   ]
  },
  {
   "cell_type": "code",
   "execution_count": 112,
   "id": "cfc23c69",
   "metadata": {},
   "outputs": [
    {
     "name": "stdout",
     "output_type": "stream",
     "text": [
      "Updated inventory\n",
      "t_shirt: 3\n",
      "mug: 2\n",
      "hat: 1\n",
      "book: 3\n",
      "keychain: 3\n"
     ]
    }
   ],
   "source": [
    "print(\"Updated inventory\")\n",
    "print(\"t_shirt:\",inventory[\"t_shirt\"])\n",
    "print(\"mug:\",inventory[\"mug\"])\n",
    "print(\"hat:\",inventory[\"hat\"])\n",
    "print(\"book:\",inventory[\"book\"])\n",
    "print(\"keychain:\",inventory[\"keychain\"])"
   ]
  },
  {
   "cell_type": "code",
   "execution_count": null,
   "id": "a52944b1",
   "metadata": {},
   "outputs": [],
   "source": []
  }
 ],
 "metadata": {
  "kernelspec": {
   "display_name": "Python 3 (ipykernel)",
   "language": "python",
   "name": "python3"
  },
  "language_info": {
   "codemirror_mode": {
    "name": "ipython",
    "version": 3
   },
   "file_extension": ".py",
   "mimetype": "text/x-python",
   "name": "python",
   "nbconvert_exporter": "python",
   "pygments_lexer": "ipython3",
   "version": "3.9.12"
  }
 },
 "nbformat": 4,
 "nbformat_minor": 5
}
