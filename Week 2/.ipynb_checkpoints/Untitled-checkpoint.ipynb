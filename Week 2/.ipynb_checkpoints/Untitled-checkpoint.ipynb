{
 "cells": [
  {
   "cell_type": "code",
   "execution_count": null,
   "id": "4f089683",
   "metadata": {},
   "outputs": [],
   "source": [
    "import numpy as np\n",
    "import pandas as pd\n",
    "import matplotlib.pyplot as plt\n",
    "%matplotlib inline\n",
    "import seaborn as sns"
   ]
  },
  {
   "cell_type": "code",
   "execution_count": null,
   "id": "ca98a00e",
   "metadata": {},
   "outputs": [],
   "source": [
    "pd.read_csv(\"Data_Marketing_Customer_Analysis_Round3 (2).csv\")"
   ]
  },
  {
   "cell_type": "code",
   "execution_count": null,
   "id": "c4004872",
   "metadata": {},
   "outputs": [],
   "source": [
    "def load_original_data():\n",
    "    file = pd.read_csv(\"Data_Marketing_Customer_Analysis_Round3 (2).csv\")\n",
    "    return file\n",
    "\n"
   ]
  },
  {
   "cell_type": "code",
   "execution_count": null,
   "id": "528e396c",
   "metadata": {},
   "outputs": [],
   "source": [
    "hk_df = load_original_data()"
   ]
  },
  {
   "cell_type": "code",
   "execution_count": null,
   "id": "b5a747e8",
   "metadata": {},
   "outputs": [],
   "source": [
    "hk_df = hk_df.drop_duplicates()"
   ]
  },
  {
   "cell_type": "code",
   "execution_count": null,
   "id": "1b229d4d",
   "metadata": {},
   "outputs": [],
   "source": [
    "hk_df.reset_index(inplace=True)"
   ]
  },
  {
   "cell_type": "code",
   "execution_count": null,
   "id": "476a1871",
   "metadata": {},
   "outputs": [],
   "source": [
    "nulls_df = pd.DataFrame(round(hk_df.isna().sum()/len(hk_df),4)*100)\n",
    "nulls_df = nulls_df.reset_index()\n",
    "nulls_df.columns = ['header_name', 'percent_nulls']\n",
    "nulls_df"
   ]
  }
 ],
 "metadata": {
  "kernelspec": {
   "display_name": "Python 3 (ipykernel)",
   "language": "python",
   "name": "python3"
  },
  "language_info": {
   "codemirror_mode": {
    "name": "ipython",
    "version": 3
   },
   "file_extension": ".py",
   "mimetype": "text/x-python",
   "name": "python",
   "nbconvert_exporter": "python",
   "pygments_lexer": "ipython3",
   "version": "3.9.12"
  }
 },
 "nbformat": 4,
 "nbformat_minor": 5
}
