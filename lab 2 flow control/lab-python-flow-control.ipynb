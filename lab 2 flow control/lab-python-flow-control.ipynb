{
 "cells": [
  {
   "cell_type": "markdown",
   "id": "d3bfc191-8885-42ee-b0a0-bbab867c6f9f",
   "metadata": {
    "tags": []
   },
   "source": [
    "# Lab | Flow Control"
   ]
  },
  {
   "cell_type": "code",
   "execution_count": 11,
   "id": "aa0d6319",
   "metadata": {},
   "outputs": [],
   "source": [
    "product = [\"t-shirt\",\"mug\",\"hat\",\"book\",\"keychain\"]"
   ]
  },
  {
   "cell_type": "code",
   "execution_count": 8,
   "id": "1bc36c39",
   "metadata": {},
   "outputs": [],
   "source": [
    "inventory = {\n",
    "    \n",
    "}"
   ]
  },
  {
   "cell_type": "code",
   "execution_count": null,
   "id": "eec86101",
   "metadata": {},
   "outputs": [],
   "source": [
    "customer_orders = set()"
   ]
  },
  {
   "cell_type": "code",
   "execution_count": 22,
   "id": "d795e73b",
   "metadata": {},
   "outputs": [
    {
     "name": "stdout",
     "output_type": "stream",
     "text": [
      "enter the number of t-shirt:5\n",
      "enter the number of mug:4\n",
      "enter the number of hat:5\n",
      "enter the number of book:4\n",
      "enter the number of keychain:3\n",
      "[5, 4, 5, 4, 3]\n"
     ]
    }
   ],
   "source": [
    "quantity = []\n",
    "for item in product:\n",
    "    customer_prod = int(input(f\"enter the number of {item}:\"))\n",
    "    quantity.append(customer_prod)\n",
    "print(quantity)"
   ]
  },
  {
   "cell_type": "code",
   "execution_count": 23,
   "id": "908a0a11",
   "metadata": {},
   "outputs": [
    {
     "name": "stdout",
     "output_type": "stream",
     "text": [
      "{'t-shirt': 5, 'mug': 4, 'hat': 5, 'book': 4, 'keychain': 3}\n"
     ]
    }
   ],
   "source": [
    "inventory = dict(zip(product,quantity))\n",
    "print(inventory)"
   ]
  },
  {
   "cell_type": "code",
   "execution_count": 35,
   "id": "655b3e1b",
   "metadata": {
    "scrolled": true
   },
   "outputs": [
    {
     "name": "stdout",
     "output_type": "stream",
     "text": [
      "Enter the name of the product you want to order book\n",
      "Yes, item is in stock\n"
     ]
    }
   ],
   "source": [
    "product = [\"t-shirt\",\"mug\",\"hat\",\"book\",\"keychain\"]\n",
    "product_name = input('Enter the name of the product you want to order ')\n",
    "if product_name in product :\n",
    "    print('Yes, item is in stock')\n",
    "    customer_orders.add(product_name)\n",
    "else :\n",
    "    print('No,we dont have stock')"
   ]
  },
  {
   "cell_type": "code",
   "execution_count": 36,
   "id": "197233c7",
   "metadata": {},
   "outputs": [
    {
     "name": "stdout",
     "output_type": "stream",
     "text": [
      "{'hat', 'mug', 'book'}\n"
     ]
    }
   ],
   "source": [
    "print(customer_orders)"
   ]
  },
  {
   "cell_type": "code",
   "execution_count": 12,
   "id": "9c1e6c9e",
   "metadata": {},
   "outputs": [
    {
     "name": "stdout",
     "output_type": "stream",
     "text": [
      "Enter other product you want to enter mug\n",
      "No, dont want to add another product\n"
     ]
    }
   ],
   "source": [
    "other_product = [\"t-shirt\",\"mug\",\"hat\",\"book\",\"keychain\"]\n",
    "other_product_name = input('Enter other product you want to enter ')\n",
    "if other_product in product :\n",
    "    print('Yes, item is in stock')\n",
    "else:\n",
    "    print('No, dont want to add another product')"
   ]
  },
  {
   "cell_type": "markdown",
   "id": "3851fcd1-cf98-4653-9c89-e003b7ec9400",
   "metadata": {},
   "source": [
    "## Exercise: Managing Customer Orders Optimized\n",
    "\n",
    "In the last lab, you were starting an online store that sells various products. To ensure smooth operations, you developed a program that manages customer orders and inventory.\n",
    "\n",
    "You did so without using flow control. Let's go a step further and improve this code.\n",
    "\n",
    "Follow the steps below to complete the exercise:\n",
    "\n",
    "1. Look at your code from the lab data structures, and improve repeated code with loops.\n",
    "\n",
    "2. Instead of asking the user to input the name of three products that a customer wants to order, do the following:\n",
    "    \n",
    "    a. Prompt the user to enter the name of a product that a customer wants to order.\n",
    "    \n",
    "    b. Add the product name to the \"customer_orders\" set.\n",
    "    \n",
    "    c. Ask the user if they want to add another product (yes/no).\n",
    "    \n",
    "    d. Continue the loop until the user does not want to add another product.\n",
    "\n",
    "3. Instead of updating the inventory by subtracting 1 from the quantity of each product, only do it for  the products that were ordered (those in \"customer_orders\")."
   ]
  },
  {
   "cell_type": "code",
   "execution_count": null,
   "id": "92176ee8",
   "metadata": {},
   "outputs": [],
   "source": [
    "for product in customer_orders:\n",
    "    if product in inventory:\n",
    "        inventory[product] -= 1"
   ]
  },
  {
   "cell_type": "code",
   "execution_count": null,
   "id": "b7acb8be",
   "metadata": {},
   "outputs": [],
   "source": [
    "print(\"Products in customer orders:\", customer_orders)\n"
   ]
  },
  {
   "cell_type": "code",
   "execution_count": 9,
   "id": "4f2440e6",
   "metadata": {},
   "outputs": [
    {
     "name": "stdout",
     "output_type": "stream",
     "text": [
      "Updated Inventory:\n"
     ]
    }
   ],
   "source": [
    "print(\"Updated Inventory:\")\n",
    "for product, quantity in inventory.items():\n",
    "    print(f\"{product}: {quantity}\")"
   ]
  },
  {
   "cell_type": "code",
   "execution_count": null,
   "id": "3e2b95a7",
   "metadata": {},
   "outputs": [],
   "source": []
  }
 ],
 "metadata": {
  "kernelspec": {
   "display_name": "Python 3 (ipykernel)",
   "language": "python",
   "name": "python3"
  },
  "language_info": {
   "codemirror_mode": {
    "name": "ipython",
    "version": 3
   },
   "file_extension": ".py",
   "mimetype": "text/x-python",
   "name": "python",
   "nbconvert_exporter": "python",
   "pygments_lexer": "ipython3",
   "version": "3.9.12"
  }
 },
 "nbformat": 4,
 "nbformat_minor": 5
}
