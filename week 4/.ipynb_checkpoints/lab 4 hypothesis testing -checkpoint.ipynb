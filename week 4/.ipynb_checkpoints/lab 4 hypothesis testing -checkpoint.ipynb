{
 "cells": [
  {
   "cell_type": "code",
   "execution_count": 13,
   "id": "0c85e3a9",
   "metadata": {},
   "outputs": [],
   "source": [
    "import numpy as np\n",
    "import pandas as pd\n",
    "import scipy.stats as stats\n",
    "import matplotlib.pyplot as plt\n",
    "import seaborn as sns\n",
    "\n",
    "%matplotlib inline"
   ]
  },
  {
   "cell_type": "code",
   "execution_count": null,
   "id": "54083741",
   "metadata": {},
   "outputs": [],
   "source": [
    "Ho :mu = 120\n",
    "Ha :mu != 120"
   ]
  },
  {
   "cell_type": "code",
   "execution_count": 7,
   "id": "4c668c65",
   "metadata": {},
   "outputs": [],
   "source": [
    "population_mean = 120\n",
    "n = 100\n",
    "s = 21.21\n",
    "x_ = 130.1"
   ]
  },
  {
   "cell_type": "code",
   "execution_count": 9,
   "id": "4bc9abb0",
   "metadata": {},
   "outputs": [],
   "source": [
    "t_score = (x_ - population_mean)/21.21"
   ]
  },
  {
   "cell_type": "code",
   "execution_count": 10,
   "id": "2ef5ec44",
   "metadata": {},
   "outputs": [
    {
     "data": {
      "text/plain": [
       "124.44229137199434"
      ]
     },
     "execution_count": 10,
     "metadata": {},
     "output_type": "execute_result"
    }
   ],
   "source": [
    "t_score"
   ]
  },
  {
   "cell_type": "code",
   "execution_count": 14,
   "id": "20cc15f7",
   "metadata": {},
   "outputs": [],
   "source": [
    "cv = stats.t.ppf(0.95,1)"
   ]
  },
  {
   "cell_type": "code",
   "execution_count": 15,
   "id": "c29a0ea8",
   "metadata": {},
   "outputs": [
    {
     "data": {
      "text/plain": [
       "1.6448536269514722"
      ]
     },
     "execution_count": 15,
     "metadata": {},
     "output_type": "execute_result"
    }
   ],
   "source": [
    "cv"
   ]
  },
  {
   "cell_type": "code",
   "execution_count": null,
   "id": "aeff9cc5",
   "metadata": {},
   "outputs": [],
   "source": []
  }
 ],
 "metadata": {
  "kernelspec": {
   "display_name": "Python 3 (ipykernel)",
   "language": "python",
   "name": "python3"
  },
  "language_info": {
   "codemirror_mode": {
    "name": "ipython",
    "version": 3
   },
   "file_extension": ".py",
   "mimetype": "text/x-python",
   "name": "python",
   "nbconvert_exporter": "python",
   "pygments_lexer": "ipython3",
   "version": "3.9.12"
  }
 },
 "nbformat": 4,
 "nbformat_minor": 5
}
