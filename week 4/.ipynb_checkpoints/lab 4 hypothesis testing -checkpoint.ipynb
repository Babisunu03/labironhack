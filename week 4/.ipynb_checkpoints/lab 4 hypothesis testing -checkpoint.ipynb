{
 "cells": [
  {
   "cell_type": "code",
   "execution_count": 8,
   "id": "0c85e3a9",
   "metadata": {},
   "outputs": [],
   "source": [
    "import numpy as np\n",
    "import pandas as pd\n",
    "import scipy.stats as stats\n",
    "import matplotlib.pyplot as plt\n",
    "import seaborn as sns\n",
    "\n",
    "%matplotlib inline"
   ]
  },
  {
   "cell_type": "code",
   "execution_count": 9,
   "id": "54083741",
   "metadata": {},
   "outputs": [],
   "source": [
    "mu=120\n",
    "n=100\n",
    "x_ = 130.1\n",
    "std = 21.21\n",
    "\n",
    "\n",
    "Ho :mu = 120\n",
    "Ha :mu != 120"
   ]
  },
  {
   "cell_type": "code",
   "execution_count": 11,
   "id": "4bc9abb0",
   "metadata": {},
   "outputs": [],
   "source": [
    "\n",
    "t_score = (x_-mu)/(std/np.sqrt(n))\n"
   ]
  },
  {
   "cell_type": "code",
   "execution_count": 12,
   "id": "2ef5ec44",
   "metadata": {},
   "outputs": [
    {
     "data": {
      "text/plain": [
       "4.761904761904759"
      ]
     },
     "execution_count": 12,
     "metadata": {},
     "output_type": "execute_result"
    }
   ],
   "source": [
    "t_score"
   ]
  },
  {
   "cell_type": "code",
   "execution_count": 6,
   "id": "20cc15f7",
   "metadata": {},
   "outputs": [],
   "source": [
    "cv = stats.t.ppf(0.975,99)"
   ]
  },
  {
   "cell_type": "code",
   "execution_count": 7,
   "id": "c29a0ea8",
   "metadata": {},
   "outputs": [
    {
     "data": {
      "text/plain": [
       "1.9842169515086827"
      ]
     },
     "execution_count": 7,
     "metadata": {},
     "output_type": "execute_result"
    }
   ],
   "source": [
    "cv"
   ]
  },
  {
   "cell_type": "code",
   "execution_count": 13,
   "id": "aeff9cc5",
   "metadata": {},
   "outputs": [
    {
     "name": "stdout",
     "output_type": "stream",
     "text": [
      "True\n"
     ]
    }
   ],
   "source": [
    "print(t_score > cv)"
   ]
  },
  {
   "cell_type": "code",
   "execution_count": 14,
   "id": "3d462574",
   "metadata": {},
   "outputs": [
    {
     "name": "stdout",
     "output_type": "stream",
     "text": [
      "the Ho can be rejected at a confidence interval of 95%,the people from Honolulu have significantly larger blood pressure\n"
     ]
    }
   ],
   "source": [
    "print('the Ho can be rejected at a confidence interval of 95%,the people from Honolulu have significantly larger blood pressure')"
   ]
  },
  {
   "cell_type": "code",
   "execution_count": null,
   "id": "44b749c9",
   "metadata": {},
   "outputs": [],
   "source": []
  }
 ],
 "metadata": {
  "kernelspec": {
   "display_name": "Python 3 (ipykernel)",
   "language": "python",
   "name": "python3"
  },
  "language_info": {
   "codemirror_mode": {
    "name": "ipython",
    "version": 3
   },
   "file_extension": ".py",
   "mimetype": "text/x-python",
   "name": "python",
   "nbconvert_exporter": "python",
   "pygments_lexer": "ipython3",
   "version": "3.9.12"
  }
 },
 "nbformat": 4,
 "nbformat_minor": 5
}
